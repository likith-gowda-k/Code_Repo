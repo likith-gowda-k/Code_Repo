{
 "cells": [
  {
   "cell_type": "markdown",
   "id": "f6e0a90a-94b4-4d22-baad-e75ce861ad3a",
   "metadata": {},
   "source": [
    "# Class and Objects"
   ]
  },
  {
   "cell_type": "code",
   "execution_count": null,
   "id": "d69b084b-eba3-4ca1-b58c-fdc0f14aac9f",
   "metadata": {},
   "outputs": [],
   "source": [
    "class Student():\n",
    "    fname= \"Arjun\"\n",
    "    lname= \"Singh\""
   ]
  },
  {
   "cell_type": "code",
   "execution_count": 4,
   "id": "852aeb9e-8ef6-4b7b-8d96-5096ab043d5d",
   "metadata": {},
   "outputs": [],
   "source": [
    "obj1 = Student()"
   ]
  },
  {
   "cell_type": "code",
   "execution_count": 11,
   "id": "64e20a54-107a-4c57-b004-c22bedf1e067",
   "metadata": {},
   "outputs": [
    {
     "data": {
      "text/plain": [
       "'Ram'"
      ]
     },
     "execution_count": 11,
     "metadata": {},
     "output_type": "execute_result"
    }
   ],
   "source": [
    "obj1.fname"
   ]
  },
  {
   "cell_type": "code",
   "execution_count": 12,
   "id": "54752b87-6b97-4ccc-bf8b-add3d50eb366",
   "metadata": {},
   "outputs": [
    {
     "name": "stdout",
     "output_type": "stream",
     "text": [
      "Ram\n"
     ]
    }
   ],
   "source": [
    "obj1.fname = \"Ram\"\n",
    "print(obj1.fname)"
   ]
  },
  {
   "cell_type": "code",
   "execution_count": 14,
   "id": "1b78b1ec-1442-4d3c-932b-c0d61509ba9c",
   "metadata": {},
   "outputs": [],
   "source": [
    "obj2 = Student()"
   ]
  },
  {
   "cell_type": "code",
   "execution_count": 16,
   "id": "94a6400b-7244-40b5-8f7e-258365984e4b",
   "metadata": {},
   "outputs": [
    {
     "data": {
      "text/plain": [
       "'Arjun'"
      ]
     },
     "execution_count": 16,
     "metadata": {},
     "output_type": "execute_result"
    }
   ],
   "source": [
    "obj2.fname"
   ]
  },
  {
   "cell_type": "code",
   "execution_count": null,
   "id": "b39a5697-9213-437d-aab5-c5bcdc1deca9",
   "metadata": {},
   "outputs": [],
   "source": []
  },
  {
   "cell_type": "markdown",
   "id": "84e392c1-c59c-4f2f-9a36-b88ee81076b5",
   "metadata": {},
   "source": [
    "# Constructor"
   ]
  },
  {
   "cell_type": "code",
   "execution_count": 27,
   "id": "a433b182-933c-403f-ab0e-c7565bf730e6",
   "metadata": {},
   "outputs": [],
   "source": [
    "class Students():\n",
    "\n",
    "    def __init__(self, fname, lname):\n",
    "        self.fname = fname\n",
    "        self.lname = lname\n",
    "        self.email = f\"{self.fname}.{self.lname}@gmail.com\"\n",
    "        print(\"Constructor\")\n",
    "        \n",
    "    def get_email(self):\n",
    "        return self.email\n",
    "\n",
    "    "
   ]
  },
  {
   "cell_type": "code",
   "execution_count": 22,
   "id": "5b7e8c74-542e-4483-9e4d-66acdd15f5be",
   "metadata": {},
   "outputs": [
    {
     "name": "stdout",
     "output_type": "stream",
     "text": [
      "This is a constructor\n"
     ]
    }
   ],
   "source": [
    "std1 = Students()"
   ]
  },
  {
   "cell_type": "code",
   "execution_count": 29,
   "id": "5b2c2ffb-2f09-45a8-bdbc-565070b3f642",
   "metadata": {},
   "outputs": [
    {
     "name": "stdout",
     "output_type": "stream",
     "text": [
      "Constructor\n"
     ]
    }
   ],
   "source": [
    "std1 = Students(\"Arjun\", \"Singh\")"
   ]
  },
  {
   "cell_type": "code",
   "execution_count": 31,
   "id": "01e944a0-8214-4503-b119-efa8bdf3c205",
   "metadata": {},
   "outputs": [
    {
     "data": {
      "text/plain": [
       "'Arjun.Singh@gmail.com'"
      ]
     },
     "execution_count": 31,
     "metadata": {},
     "output_type": "execute_result"
    }
   ],
   "source": [
    "std1.get_email()"
   ]
  },
  {
   "cell_type": "code",
   "execution_count": null,
   "id": "16569f15-dae2-4055-93f8-86fa26219efe",
   "metadata": {},
   "outputs": [],
   "source": []
  },
  {
   "cell_type": "markdown",
   "id": "2b8b7bb7-76a1-4250-ac3b-c24cf744357e",
   "metadata": {},
   "source": [
    "# Encapsulation"
   ]
  },
  {
   "cell_type": "code",
   "execution_count": 72,
   "id": "062991d1-1865-4360-8d58-7caa2ac66d76",
   "metadata": {},
   "outputs": [],
   "source": [
    "class Employee():\n",
    "    def __init__(self, fname,lname):\n",
    "        self.fname = fname\n",
    "        self.lname = lname\n",
    "        self.email = f\"{fname}.{lname}@gmail.com\"\n",
    "        self.__salary = 5000 #private\n",
    "\n",
    "    def get_email(self):\n",
    "        return self.email\n",
    "\n",
    "    def get_tax(self):\n",
    "        tax = self.__salary*100/30\n",
    "        return tax\n",
    "    "
   ]
  },
  {
   "cell_type": "code",
   "execution_count": 63,
   "id": "ac1556a9-390f-4925-bb5f-9fa77d3138f8",
   "metadata": {},
   "outputs": [
    {
     "data": {
      "text/plain": [
       "('John', 'Wick', 'John.Wick@gmail.com')"
      ]
     },
     "execution_count": 63,
     "metadata": {},
     "output_type": "execute_result"
    }
   ],
   "source": [
    " e1.fname, e1.lname, e1.email"
   ]
  },
  {
   "cell_type": "code",
   "execution_count": 73,
   "id": "45d95cc6-f502-4bfd-80d1-afec46623014",
   "metadata": {},
   "outputs": [
    {
     "data": {
      "text/plain": [
       "16666.666666666668"
      ]
     },
     "execution_count": 73,
     "metadata": {},
     "output_type": "execute_result"
    }
   ],
   "source": [
    "e1 = Employee(\"John\", \"Wick\")\n",
    "e1.get_tax()"
   ]
  },
  {
   "cell_type": "markdown",
   "id": "f98d53f9-f888-4b88-ae66-9fa4d6fd8563",
   "metadata": {},
   "source": [
    "# Inheritance"
   ]
  },
  {
   "cell_type": "code",
   "execution_count": 76,
   "id": "0a9535d0-c90a-4aa5-bda9-980837bc98fe",
   "metadata": {},
   "outputs": [],
   "source": [
    "#base or parent class\n",
    "class base_class(): \n",
    "    def __init__(self, name, model, year, mileage):\n",
    "        self.name= name\n",
    "        self.model = model\n",
    "        self.year = year\n",
    "        self.mileage = mileage\n",
    "        print(\"This is Parent Constructor\")\n",
    "\n",
    "    def showDetails(self):\n",
    "        print(f\" Car Name: {self.name} \\n Model Name : {self.model} \\n Year: {self.year} \\n Mileage: {self.mileage}\")\n",
    "\n"
   ]
  },
  {
   "cell_type": "code",
   "execution_count": 79,
   "id": "eada7491-ef9e-4c37-8c02-b7bfa73b2dae",
   "metadata": {},
   "outputs": [
    {
     "name": "stdout",
     "output_type": "stream",
     "text": [
      " Car Name: Car1 \n",
      " Model Name : V0 \n",
      " Year: 2023 \n",
      " Mileage: 30 kmpl\n"
     ]
    }
   ],
   "source": [
    "base1 = base_class(\"Car1\", \"V0\", \"2023\", \"30 kmpl\")\n",
    "base1.showDetails()"
   ]
  },
  {
   "cell_type": "code",
   "execution_count": 86,
   "id": "f625d94c-d759-4cd8-94f4-b4162511405a",
   "metadata": {},
   "outputs": [
    {
     "name": "stdout",
     "output_type": "stream",
     "text": [
      "This is Child Constructor\n",
      " Car Name: Car2 \n",
      " Model Name : V1 \n",
      " Year: 1999 \n",
      " Mileage: 60 kmpl\n"
     ]
    },
    {
     "data": {
      "text/plain": [
       "(65, None)"
      ]
     },
     "execution_count": 86,
     "metadata": {},
     "output_type": "execute_result"
    }
   ],
   "source": [
    "#child class\n",
    "class child_class(base_class):\n",
    "    def __init__(self, name, model, year, mileage, ch):\n",
    "        super().__init__(name, model, year, mileage)\n",
    "        self.charge = ch\n",
    "        print(\"This is Child Constructor\")\n",
    "\n",
    "child1 = child_class(\"Car2\", \"V1\", \"1999\",\"60 kmpl\", 65)\n",
    "child1.charge, child1.showDetails()\n"
   ]
  },
  {
   "cell_type": "code",
   "execution_count": null,
   "id": "f6c06e0f-e196-4b95-ac9b-f5c864968016",
   "metadata": {},
   "outputs": [],
   "source": []
  },
  {
   "cell_type": "markdown",
   "id": "c441c77c-58b5-4918-bd91-6a717d02a4f5",
   "metadata": {},
   "source": [
    "# Dunder Methods"
   ]
  },
  {
   "cell_type": "code",
   "execution_count": 128,
   "id": "f68271b5-bd0c-4809-b5ca-33ff24b9bad4",
   "metadata": {},
   "outputs": [],
   "source": [
    "class Sample():\n",
    "    def __init__(self, name, score):\n",
    "        self.name = name\n",
    "        self.score = score\n",
    "\n",
    "    def IncreaseScore(self):\n",
    "        self.score += 1\n",
    "        \n",
    "    def DecreaseScore(self):\n",
    "        self.score -= 1\n",
    "\n",
    "    def __repr__(self):\n",
    "        return \"Sample Class with score Increase Decrease Options\"\n",
    "\n",
    "    def __len__(self):\n",
    "        return self.score\n",
    "\n",
    "    def __lt__(self, other):\n",
    "        return self.score < other.score\n",
    "\n",
    "obj1 = Sample(\"Arjun\", 80)\n",
    "obj2 = Sample(\"Ram\", 95)\n",
    "        "
   ]
  },
  {
   "cell_type": "code",
   "execution_count": 111,
   "id": "35113805-594c-4be3-9206-334adedc8f7a",
   "metadata": {},
   "outputs": [
    {
     "name": "stdout",
     "output_type": "stream",
     "text": [
      "80\n"
     ]
    }
   ],
   "source": [
    "print(len(obj1))"
   ]
  },
  {
   "cell_type": "code",
   "execution_count": 127,
   "id": "f448ed4c-9db1-40fa-a4da-d20d246f014b",
   "metadata": {},
   "outputs": [
    {
     "data": {
      "text/plain": [
       "True"
      ]
     },
     "execution_count": 127,
     "metadata": {},
     "output_type": "execute_result"
    }
   ],
   "source": [
    "obj1 < obj2"
   ]
  },
  {
   "cell_type": "code",
   "execution_count": 129,
   "id": "ecb62fe8-ba8c-4d22-9655-2ec40af48a01",
   "metadata": {},
   "outputs": [
    {
     "ename": "ModuleNotFoundError",
     "evalue": "No module named 'numpy'",
     "output_type": "error",
     "traceback": [
      "\u001b[1;31m---------------------------------------------------------------------------\u001b[0m",
      "\u001b[1;31mModuleNotFoundError\u001b[0m                       Traceback (most recent call last)",
      "Cell \u001b[1;32mIn[129], line 1\u001b[0m\n\u001b[1;32m----> 1\u001b[0m \u001b[38;5;28;01mimport\u001b[39;00m \u001b[38;5;21;01mnumpy\u001b[39;00m \u001b[38;5;28;01mas\u001b[39;00m \u001b[38;5;21;01mnp\u001b[39;00m\n",
      "\u001b[1;31mModuleNotFoundError\u001b[0m: No module named 'numpy'"
     ]
    }
   ],
   "source": [
    "import numpy as np"
   ]
  },
  {
   "cell_type": "code",
   "execution_count": null,
   "id": "1e9b32e1-6fbd-418e-88fc-79633857d8d7",
   "metadata": {},
   "outputs": [],
   "source": [
    "np.array.__dir__()"
   ]
  }
 ],
 "metadata": {
  "kernelspec": {
   "display_name": "Python 3 (ipykernel)",
   "language": "python",
   "name": "python3"
  },
  "language_info": {
   "codemirror_mode": {
    "name": "ipython",
    "version": 3
   },
   "file_extension": ".py",
   "mimetype": "text/x-python",
   "name": "python",
   "nbconvert_exporter": "python",
   "pygments_lexer": "ipython3",
   "version": "3.12.4"
  }
 },
 "nbformat": 4,
 "nbformat_minor": 5
}
