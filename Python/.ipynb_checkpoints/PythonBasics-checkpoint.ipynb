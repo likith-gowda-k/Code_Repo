{
 "cells": [
  {
   "cell_type": "markdown",
   "id": "69bdd4c0-1953-44ed-b73b-3f14a8d66107",
   "metadata": {},
   "source": [
    "__Variables__"
   ]
  },
  {
   "cell_type": "code",
   "execution_count": 13,
   "id": "c0136451-9882-4297-bf70-f2deeb2ce8ea",
   "metadata": {},
   "outputs": [
    {
     "name": "stdout",
     "output_type": "stream",
     "text": [
      "True\n",
      "<class 'bool'>\n"
     ]
    }
   ],
   "source": [
    "#int\n",
    "#float\n",
    "#string\n",
    "#boolean\n",
    "\n",
    "\n",
    "a = True\n",
    "print(a);\n",
    "print(type(a));\n"
   ]
  },
  {
   "cell_type": "markdown",
   "id": "84b21d0e-b464-41ef-8eea-a704e88e8d89",
   "metadata": {},
   "source": [
    "**List , Tuple , Set and Dictionary**"
   ]
  },
  {
   "cell_type": "code",
   "execution_count": 32,
   "id": "36c7a0a8-aac6-4152-9214-51c6a3dd5397",
   "metadata": {},
   "outputs": [
    {
     "name": "stdout",
     "output_type": "stream",
     "text": [
      "Before:  [100, 300, 75, 'Bye']\n",
      "300\n",
      "75\n",
      "[300, 75]\n",
      "After:  [150, 300, 75, 'Bye']\n"
     ]
    }
   ],
   "source": [
    "#list\n",
    "#mutable\n",
    "\n",
    "sample = [100, 300, 75,\"Bye\"]\n",
    "#Indexing\n",
    "print('Before: ' ,sample)\n",
    "print(sample[1])\n",
    "print(sample[-2])\n",
    "print(sample[1:3])\n",
    "\n",
    "#update\n",
    "sample[0] = 150\n",
    "print('After: ' ,sample)"
   ]
  },
  {
   "cell_type": "code",
   "execution_count": 36,
   "id": "e838a827-a21c-4bb5-ac50-5dc6d497b050",
   "metadata": {},
   "outputs": [
    {
     "name": "stdout",
     "output_type": "stream",
     "text": [
      "(250, 56, 456)\n"
     ]
    }
   ],
   "source": [
    "#tuple\n",
    "#immutable\n",
    "sample_tuple = (250, 56, 456, 888)\n",
    "print(sample_tuple[0:3])"
   ]
  },
  {
   "cell_type": "code",
   "execution_count": 149,
   "id": "e6b46b6a-41f9-42a9-ac7a-416aa79e1896",
   "metadata": {},
   "outputs": [
    {
     "name": "stdout",
     "output_type": "stream",
     "text": [
      "{200, 800, 600, 400}\n",
      "{800, 200, 1000, 400, 600}\n",
      "{800, 200, 1000, 400, 500, 600}\n",
      "{800, 200, 1000, 400, 500}\n"
     ]
    }
   ],
   "source": [
    "#set\n",
    "#indexing\n",
    "#mutable\n",
    "#No duplicates allowed\n",
    "sample_set = {200, 400, 600, 800}\n",
    "print(sample_set)\n",
    "sample_set.add(1000)\n",
    "print(sample_set)\n",
    "sample_set.add(500)\n",
    "print(sample_set)\n",
    "sample_set.remove(600)\n",
    "print(sample_set)\n",
    "\n"
   ]
  },
  {
   "cell_type": "code",
   "execution_count": 62,
   "id": "130bc798-9793-4927-9be7-42009fd473df",
   "metadata": {},
   "outputs": [
    {
     "name": "stdout",
     "output_type": "stream",
     "text": [
      "[20, 20, 40, 50, 'text']\n",
      "(20, 20, 40, 50, 'text')\n",
      "{40, 50, 20, 'text'}\n"
     ]
    }
   ],
   "source": [
    "#conversion\n",
    "sample = [20,20, 40,50, 'text']\n",
    "print(sample)\n",
    "\n",
    "new_tuple = tuple(sample)\n",
    "print(new_tuple)\n",
    "\n",
    "new_set = set(sample)\n",
    "print(new_set)\n",
    "\n"
   ]
  },
  {
   "cell_type": "code",
   "execution_count": 80,
   "id": "8c1db647-48e7-49bc-8318-7bb15b0286de",
   "metadata": {},
   "outputs": [
    {
     "name": "stdout",
     "output_type": "stream",
     "text": [
      "{'x': 100, 'y': 200, 'z': 300}\n",
      "dict_keys(['x', 'y', 'z'])\n",
      "dict_values([100, 200, 300])\n",
      "{'x': 100, 'y': 200, 'z': 300, 'a': 400}\n",
      "{'x': 111, 'y': 200, 'z': 300, 'a': 400}\n"
     ]
    }
   ],
   "source": [
    "#dictionary\n",
    "#key : value\n",
    "#mutable\n",
    "#indexing\n",
    "\n",
    "sample_dict = { \"x\": 100, \"y\": 200, \"z\": 300}\n",
    "print(sample_dict)\n",
    "\n",
    "print(sample_dict.keys())\n",
    "print(sample_dict.values())\n",
    "\n",
    "sample_dict[\"a\"] = 400\n",
    "print(sample_dict)\n",
    "\n",
    "sample_dict[\"x\"] = 111\n",
    "print(sample_dict)\n",
    "\n",
    "\n",
    "\n",
    "\n",
    "\n"
   ]
  },
  {
   "cell_type": "markdown",
   "id": "99aa4797-a57b-400e-ba9c-6b70d6b7dcee",
   "metadata": {},
   "source": [
    "**Conditional Statements**"
   ]
  },
  {
   "cell_type": "code",
   "execution_count": 89,
   "id": "d3760005-0f43-4318-aaf2-8c6fa043780f",
   "metadata": {},
   "outputs": [
    {
     "name": "stdout",
     "output_type": "stream",
     "text": [
      "Failed\n"
     ]
    }
   ],
   "source": [
    "marks =10\n",
    "if marks >= 35 and marks < 65 :\n",
    "    print(\"Passed\")\n",
    "elif marks>= 65 and marks< 85:\n",
    "    print(\"Passed with First Class\")\n",
    "elif marks >= 85 :\n",
    "    print(\"Passed with Distinction\")\n",
    "else:\n",
    "    print(\"Failed\")\n",
    "        "
   ]
  },
  {
   "cell_type": "markdown",
   "id": "59ecbaea-c7f3-4c0a-b1fc-62c62a598167",
   "metadata": {},
   "source": [
    "**Loops**"
   ]
  },
  {
   "cell_type": "code",
   "execution_count": 96,
   "id": "8ef274dd-a702-4c4c-8562-4d09870fedd0",
   "metadata": {},
   "outputs": [
    {
     "name": "stdout",
     "output_type": "stream",
     "text": [
      "100\n",
      "300\n",
      "75\n",
      "Bye\n",
      "Range with single value\n",
      "0\n",
      "1\n",
      "2\n",
      "3\n",
      "4\n",
      "5\n",
      "6\n",
      "7\n",
      "8\n",
      "9\n",
      "Range with two values\n",
      "3\n",
      "4\n",
      "5\n",
      "6\n",
      "7\n",
      "Range with three values\n",
      "10\n",
      "12\n",
      "14\n",
      "16\n",
      "18\n"
     ]
    }
   ],
   "source": [
    "#for loop\n",
    "\n",
    "sample = [100, 300, 75,\"Bye\"]\n",
    "\n",
    "for item in sample:\n",
    "    print(item)\n",
    "\n",
    "print(\"Range with single value\")\n",
    "for item in range(10):\n",
    "    print(item)\n",
    "\n",
    "\n",
    "print(\"Range with two values\")\n",
    "for item in range(3,8):\n",
    "    print(item)\n",
    "\n",
    "print(\"Range with three values\")\n",
    "for item in range(10, 20, 2):\n",
    "    print(item)\n"
   ]
  },
  {
   "cell_type": "code",
   "execution_count": 102,
   "id": "e43b6064-da5f-4b91-a04d-884defd7f8b5",
   "metadata": {},
   "outputs": [
    {
     "name": "stdout",
     "output_type": "stream",
     "text": [
      "0\n",
      "1\n",
      "2\n",
      "3\n",
      "4\n"
     ]
    }
   ],
   "source": [
    "#while loop\n",
    "x = 0\n",
    "while x < 8:\n",
    "    print(x)\n",
    "    x += 1 #x = x+1 \n",
    "    if x == 5:\n",
    "        break\n",
    " \n"
   ]
  },
  {
   "cell_type": "code",
   "execution_count": 108,
   "id": "e0226eb8-4f7d-4756-a208-6ebcd1adf6db",
   "metadata": {},
   "outputs": [
    {
     "name": "stdout",
     "output_type": "stream",
     "text": [
      "0\n",
      "1\n",
      "2\n",
      "3\n",
      "4\n",
      "6\n",
      "7\n"
     ]
    }
   ],
   "source": [
    "x = 0\n",
    "while x< 8:\n",
    "    if x ==5:\n",
    "        x += 1\n",
    "        continue\n",
    "    print(x)\n",
    "    x += 1"
   ]
  },
  {
   "cell_type": "markdown",
   "id": "50d9736b-dee9-48ec-9186-12cd2888d705",
   "metadata": {},
   "source": [
    "**Functions**"
   ]
  },
  {
   "cell_type": "code",
   "execution_count": 111,
   "id": "c83a386b-ad79-4f5e-a8c6-e31aa2a201ac",
   "metadata": {},
   "outputs": [
    {
     "name": "stdout",
     "output_type": "stream",
     "text": [
      "Hello World\n"
     ]
    }
   ],
   "source": [
    "def greet():\n",
    "    print(\"Hello World\")\n",
    "\n",
    "greet()"
   ]
  },
  {
   "cell_type": "code",
   "execution_count": 115,
   "id": "8d9221ed-2f42-4167-b8ba-9774a6dc14ab",
   "metadata": {},
   "outputs": [
    {
     "name": "stdout",
     "output_type": "stream",
     "text": [
      "Hello Ram !\n"
     ]
    }
   ],
   "source": [
    "def greet(name):\n",
    "    print(f\"Hello {name} !\")\n",
    "\n",
    "greet(\"Ram\")\n",
    "        "
   ]
  },
  {
   "cell_type": "code",
   "execution_count": 124,
   "id": "1035bb78-ca8d-4eeb-8651-2d0e26934f73",
   "metadata": {},
   "outputs": [
    {
     "name": "stdout",
     "output_type": "stream",
     "text": [
      "Welcome Ram Jan !!\n"
     ]
    }
   ],
   "source": [
    "def greet(fname, lname):\n",
    "    print(f\"Welcome {fname} {lname} !!\")\n",
    "\n",
    "greet(\"Ram\", \"Jan\")"
   ]
  },
  {
   "cell_type": "code",
   "execution_count": 133,
   "id": "dd44232d-faea-4274-824c-34505088e083",
   "metadata": {},
   "outputs": [
    {
     "name": "stdout",
     "output_type": "stream",
     "text": [
      "fname='John' lname='Wick' email='ab@gmail.com'\n"
     ]
    }
   ],
   "source": [
    "def greet(fname, lname, email=\"Sample@gmail.com\",  *args):\n",
    "    print(f\"{fname=} {lname=} {email=}\")\n",
    "\n",
    "greet(\"John\", \"Wick\", \"ab@gmail.com\", \"sample\", 56, 80, 9.0)"
   ]
  },
  {
   "cell_type": "code",
   "execution_count": 1,
   "id": "d2b16c78-aba0-4fa7-8cbb-998aa3958d98",
   "metadata": {},
   "outputs": [
    {
     "name": "stdout",
     "output_type": "stream",
     "text": [
      "fname='John' lname='Wick' email='sample@gmail.com' \n",
      "args=(56, 80, 9.0)\n",
      "kwargs={'phn': '98424654'}\n"
     ]
    }
   ],
   "source": [
    "def greet(fname, lname, email=\"Sample@gmail.com\",  *args, **kwargs):\n",
    "    print(f\"{fname=} {lname=} {email=} \")\n",
    "    print(f\"{args=}\")\n",
    "    print(f\"{kwargs=}\")\n",
    "    \n",
    "\n",
    "greet(\"John\", \"Wick\", \"sample@gmail.com\", 56, 80, 9.0, phn = \"98424654\")"
   ]
  },
  {
   "cell_type": "code",
   "execution_count": 19,
   "id": "af68ff38-7e01-42d7-827c-16354d98536c",
   "metadata": {},
   "outputs": [
    {
     "data": {
      "text/plain": [
       "415"
      ]
     },
     "execution_count": 19,
     "metadata": {},
     "output_type": "execute_result"
    }
   ],
   "source": [
    "def add(*args, **kwargs):\n",
    "    sumn = 0\n",
    "    for item in args:\n",
    "        sumn += item\n",
    "    for key,value in kwargs.items():\n",
    "        sumn += value\n",
    "    return sumn\n",
    "\n",
    "\n",
    "add(6,4,5, x=100, z=300)"
   ]
  }
 ],
 "metadata": {
  "kernelspec": {
   "display_name": "Python 3 (ipykernel)",
   "language": "python",
   "name": "python3"
  },
  "language_info": {
   "codemirror_mode": {
    "name": "ipython",
    "version": 3
   },
   "file_extension": ".py",
   "mimetype": "text/x-python",
   "name": "python",
   "nbconvert_exporter": "python",
   "pygments_lexer": "ipython3",
   "version": "3.12.4"
  }
 },
 "nbformat": 4,
 "nbformat_minor": 5
}
