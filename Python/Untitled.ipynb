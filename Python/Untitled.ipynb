{
 "cells": [
  {
   "cell_type": "markdown",
   "id": "3368bab2-19f2-4c1e-af31-28a379efb331",
   "metadata": {},
   "source": [
    "## Fibonacci Series - 0,1,1,2,3,5,8,13,21"
   ]
  },
  {
   "cell_type": "code",
   "execution_count": 1,
   "id": "173c5946-1281-49d3-8944-2042f5370dc3",
   "metadata": {},
   "outputs": [],
   "source": [
    "def fib(n):\n",
    "    if n==0:\n",
    "        return 0\n",
    "    elif n==1 or n==2:\n",
    "        return 1\n",
    "    return fib(n-1)+ fib(n-2)\n",
    "        "
   ]
  },
  {
   "cell_type": "code",
   "execution_count": 3,
   "id": "2a12e89d-992e-4005-8eaf-3f6d3d5d9b12",
   "metadata": {},
   "outputs": [
    {
     "data": {
      "text/plain": [
       "2"
      ]
     },
     "execution_count": 3,
     "metadata": {},
     "output_type": "execute_result"
    }
   ],
   "source": [
    "fib(3)"
   ]
  },
  {
   "cell_type": "code",
   "execution_count": 15,
   "id": "7a0bb07c-f7ba-4a7b-baac-b298679c0913",
   "metadata": {},
   "outputs": [
    {
     "data": {
      "text/plain": [
       "21"
      ]
     },
     "execution_count": 15,
     "metadata": {},
     "output_type": "execute_result"
    }
   ],
   "source": [
    "fib(8)"
   ]
  },
  {
   "cell_type": "markdown",
   "id": "5dad0a56-52fa-4003-882f-334dcae7f871",
   "metadata": {},
   "source": [
    "# Memoization"
   ]
  },
  {
   "cell_type": "code",
   "execution_count": 9,
   "id": "7d691ae7-a01c-484d-af55-8a50c04e1067",
   "metadata": {},
   "outputs": [],
   "source": [
    "def fib2(n, mem={}):\n",
    "    if n in mem.keys():\n",
    "        return mem[n]\n",
    "    if n==0:\n",
    "        mem[0]= 0\n",
    "        return mem[0]\n",
    "    elif n==1 or n==2:\n",
    "        mem[n] =  1\n",
    "        return mem[n]\n",
    "    mem[n] = fib2(n-1, mem) + fib2(n-2, mem)\n",
    "    return mem[n]\n",
    "    "
   ]
  },
  {
   "cell_type": "code",
   "execution_count": 11,
   "id": "aa4849a9-f59c-4363-9762-8389845b9e0f",
   "metadata": {},
   "outputs": [
    {
     "data": {
      "text/plain": [
       "2"
      ]
     },
     "execution_count": 11,
     "metadata": {},
     "output_type": "execute_result"
    }
   ],
   "source": [
    "fib2(3)"
   ]
  },
  {
   "cell_type": "code",
   "execution_count": 14,
   "id": "09783ca4-13e1-47ea-86cd-52386213ce16",
   "metadata": {},
   "outputs": [
    {
     "data": {
      "text/plain": [
       "17167680177565"
      ]
     },
     "execution_count": 14,
     "metadata": {},
     "output_type": "execute_result"
    }
   ],
   "source": [
    "fib2(65)"
   ]
  },
  {
   "cell_type": "markdown",
   "id": "6ccfc958-881e-46a0-aa96-19c8d66191d2",
   "metadata": {},
   "source": [
    "## Python inbuilt library for Memoization"
   ]
  },
  {
   "cell_type": "code",
   "execution_count": 20,
   "id": "cbf16a97-2bd7-4c1b-a4a1-7d39db9786eb",
   "metadata": {},
   "outputs": [],
   "source": [
    "from functools import lru_cache\n",
    "\n",
    "@lru_cache(None)\n",
    "def fib3(n, mem={}):\n",
    "    if n==0:\n",
    "        return 0\n",
    "    elif n ==1 or n==2:\n",
    "        return 1\n",
    "    return fib3(n-1) + fib3(n-2)"
   ]
  },
  {
   "cell_type": "code",
   "execution_count": 21,
   "id": "036753ba-2bef-44e8-8c1e-717205fae910",
   "metadata": {},
   "outputs": [
    {
     "data": {
      "text/plain": [
       "354224848179261915075"
      ]
     },
     "execution_count": 21,
     "metadata": {},
     "output_type": "execute_result"
    }
   ],
   "source": [
    "fib3(100)"
   ]
  }
 ],
 "metadata": {
  "kernelspec": {
   "display_name": "Python 3 (ipykernel)",
   "language": "python",
   "name": "python3"
  },
  "language_info": {
   "codemirror_mode": {
    "name": "ipython",
    "version": 3
   },
   "file_extension": ".py",
   "mimetype": "text/x-python",
   "name": "python",
   "nbconvert_exporter": "python",
   "pygments_lexer": "ipython3",
   "version": "3.12.4"
  }
 },
 "nbformat": 4,
 "nbformat_minor": 5
}
